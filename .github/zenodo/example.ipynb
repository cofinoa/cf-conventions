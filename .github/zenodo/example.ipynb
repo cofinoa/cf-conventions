{
 "cells": [
  {
   "cell_type": "code",
   "execution_count": null,
   "metadata": {},
   "outputs": [],
   "source": [
    "import requests\n",
    "import os\n",
    "import json\n",
    "from pprint import pprint\n",
    "import warnings"
   ]
  },
  {
   "cell_type": "code",
   "execution_count": null,
   "metadata": {},
   "outputs": [],
   "source": [
    "ZENODO_ACCESS_TOKEN = os.environ.get('ZENODO_ACCESS_TOKEN', '4WUTJLhMlKljZkknoc7llyMcTy3vjBy3I11j0mwUHVSYixxjt9Q72kLo8KMp')\n",
    "ZENODO_URL = os.environ.get('ZENODO_URL', 'https://sandbox.zenodo.org')\n",
    "params = {'access_token': ZENODO_ACCESS_TOKEN}\n",
    "headers = {\"Content-Type\": \"application/json\"}"
   ]
  },
  {
   "cell_type": "code",
   "execution_count": null,
   "metadata": {},
   "outputs": [],
   "source": [
    "publish_path='publish/1.11'\n",
    "#Read metadata from zenodo.json file\n",
    "with open(f'{publish_path}/zenodo.json', 'r') as f:\n",
    "  zenodo_json = json.load(f)\n",
    "zenodo_json"
   ]
  },
  {
   "cell_type": "code",
   "execution_count": null,
   "metadata": {},
   "outputs": [],
   "source": [
    "# Create empty record\n",
    "res = requests.post(\n",
    "  f'{ZENODO_URL}/api/deposit/depositions',\n",
    "  params=params,\n",
    "  json={},\n",
    "  headers=headers\n",
    ")\n",
    "\n",
    "assert (res.status_code == 201), f'Error creating record: {res.json()}'\n",
    "\n",
    "newrecord = res.json()\n",
    "newrecord_deposition_id = newrecord['id']\n",
    "newrecord_bucket_url = newrecord[\"links\"][\"bucket\"]\n",
    "newversion_prereserve_doi = newrecord['metadata']['prereserve_doi']['doi']\n",
    "pprint(newrecord)"
   ]
  },
  {
   "cell_type": "code",
   "execution_count": null,
   "metadata": {},
   "outputs": [],
   "source": [
    "#Put metadata\n",
    "res = requests.put(\n",
    "  f'{ZENODO_URL}/api/deposit/depositions/{newrecord_deposition_id}',\n",
    "  params = params,\n",
    "  headers = headers,\n",
    "  data = json.dumps(zenodo_json))\n",
    "\n",
    "assert (res.status_code == 200), f'Error updating metadata {newrecord_deposition_id}: {res.json()}'\n"
   ]
  },
  {
   "cell_type": "code",
   "execution_count": null,
   "metadata": {},
   "outputs": [],
   "source": [
    "#upload file\n",
    "for file in zenodo_json['files']:\n",
    "  filename = file['filename']\n",
    "  with open(f'{publish_path}/{filename}', 'rb') as f:\n",
    "    res = requests.put(\n",
    "      f'{newrecord_bucket_url}/{filename}',\n",
    "      params = params,\n",
    "      data = f)\n",
    "  assert (res.status_code == 201), f'Error uploading file {filename}: {res.json()}'\n",
    "  assert (res.json()['size'] == file['size']), f'Error uploading file. Size mismatch: {res.json()['size']} != {file['size']}'\n",
    "  assert (res.json()['checksum'] == file['checksum']), f'Error uploading file. Checksum mismatch: {res.json()['checksum']} != {file['checksum']}'\n",
    "  #TODO: Verify MD5\n"
   ]
  },
  {
   "cell_type": "code",
   "execution_count": null,
   "metadata": {},
   "outputs": [],
   "source": [
    "res"
   ]
  },
  {
   "cell_type": "code",
   "execution_count": null,
   "metadata": {},
   "outputs": [],
   "source": [
    "res = requests.get(\n",
    "  f'{ZENODO_URL}/api/deposit/depositions/{newrecord_deposition_id}',\n",
    "  params = params,\n",
    "  headers = headers\n",
    ")\n",
    "if res.status_code != 200:\n",
    "  raise requests.RequestException(res.json())\n",
    "res.json()"
   ]
  },
  {
   "cell_type": "code",
   "execution_count": null,
   "metadata": {},
   "outputs": [],
   "source": [
    "res = requests.get(\n",
    "  f'{ZENODO_URL}/api/deposit/depositions',\n",
    "  params = params,\n",
    "  headers = headers\n",
    ")\n",
    "if res.status_code != 200:\n",
    "  raise requests.RequestException(res.json())\n",
    "res.json()"
   ]
  },
  {
   "cell_type": "markdown",
   "metadata": {},
   "source": [
    "# \"New\" Version 1.0"
   ]
  },
  {
   "cell_type": "code",
   "execution_count": null,
   "metadata": {},
   "outputs": [],
   "source": [
    "publish_path='publish/1.0'\n",
    "#Read metadata from zenodo.json file\n",
    "with open(f'{publish_path}/zenodo.json', 'r') as f:\n",
    "  zenodo_json = json.load(f)\n",
    "zenodo_json"
   ]
  },
  {
   "cell_type": "code",
   "execution_count": null,
   "metadata": {},
   "outputs": [],
   "source": [
    "#LATEST_DEPOSITION_ID = '129052'\n",
    "LATEST_DEPOSITION_ID = '129592'\n",
    "LATEST_DEPOSITION_ID = '130529'\n",
    "# Create new version FROM record\n",
    "#  f'{ZENODO_URL}/api/deposit/depositions/{LATEST_DEPOSITION_ID}/actions/newversion',\n",
    "#  f'{ZENODO_URL}/api/records/{LATEST_DEPOSITION_ID}/versions',\n",
    "res = requests.post(\n",
    "  f'{ZENODO_URL}/api/deposit/depositions/{LATEST_DEPOSITION_ID}/actions/newversion',\n",
    "  params = params,\n",
    "  json = {},\n",
    "  headers = headers\n",
    ")\n",
    "if res.status_code != 201:\n",
    "  if res.status_code == 500 and res.json()['message'] == 'Misconfigured search.':\n",
    "    warnings.warn(f'Error creating new version for deposition id {LATEST_DEPOSITION_ID}: {res.json()}')\n",
    "  else:\n",
    "    assert (res.status_code == 201), f'Error creating new version for deposition id {LATEST_DEPOSITION_ID}: {res.json()}'\n",
    "\n"
   ]
  },
  {
   "cell_type": "code",
   "execution_count": null,
   "metadata": {},
   "outputs": [],
   "source": [
    "res.json()"
   ]
  },
  {
   "cell_type": "code",
   "execution_count": null,
   "metadata": {},
   "outputs": [],
   "source": [
    "# TO BE KEEP in case temporla issues appear again\n",
    "#TEMP_ID = 129747\n",
    "#res = requests.get(\n",
    "#  f'{ZENODO_URL}/api/deposit/depositions/{TEMP_ID}',\n",
    "#  params = params,\n",
    "#  headers = headers\n",
    "#)\n",
    "#assert (res.status_code == 200), f'Error retriving new verions deposition {TEMP_ID}: {res.json()}'\n",
    "\n",
    "newversion_record = res.json()\n",
    "newversion_deposition_id = newversion_record['id']\n",
    "newversion_bucket_url = newversion_record['links']['bucket']\n",
    "newversion_prereserve_doi = newversion_record['metadata']['prereserve_doi']['doi']\n",
    "newversion_record"
   ]
  },
  {
   "cell_type": "code",
   "execution_count": null,
   "metadata": {},
   "outputs": [],
   "source": [
    "res.json()"
   ]
  },
  {
   "cell_type": "code",
   "execution_count": null,
   "metadata": {},
   "outputs": [],
   "source": [
    "#delete files\n",
    "for file in newversion_record['files']:\n",
    "  res = requests.delete(\n",
    "    f'{ZENODO_URL}/api/deposit/depositions/{newversion_deposition_id}/files/{file['id']}',\n",
    "    params = params,\n",
    "  )\n",
    "  assert (res.status_code == 204), f'Error deleting file {file['filename']}: {res.json()}'\n"
   ]
  },
  {
   "cell_type": "code",
   "execution_count": null,
   "metadata": {},
   "outputs": [],
   "source": [
    "#Put metadata\n",
    "res = requests.put(\n",
    "  f'{ZENODO_URL}/api/deposit/depositions/{newversion_deposition_id}',\n",
    "  params = params,\n",
    "  headers = headers,\n",
    "  data = json.dumps(zenodo_json))\n",
    "\n",
    "assert (res.status_code == 200), f'Error updating metadata {newversion_deposition_id}: {res.json()}'\n"
   ]
  },
  {
   "cell_type": "code",
   "execution_count": null,
   "metadata": {},
   "outputs": [],
   "source": [
    "#upload file\n",
    "for file in zenodo_json['files']:\n",
    "  filename = file['filename']\n",
    "  with open(f'{publish_path}/{filename}', 'rb') as f:\n",
    "    res = requests.put(\n",
    "      f'{newversion_bucket_url}/{filename}',\n",
    "      params = params,\n",
    "      data = f)\n",
    "  assert (res.status_code == 201), f'Error uploading file {filename}: {res.json()}'\n",
    "  assert (res.json()['size'] == file['size']), f'Error uploading file. Size mismatch: {res.json()['size']} != {file['size']}'\n",
    "  assert (res.json()['checksum'] == file['checksum']), f'Error uploading file. Checksum mismatch: {res.json()['checksum']} != {file['checksum']}'\n"
   ]
  },
  {
   "cell_type": "markdown",
   "metadata": {},
   "source": [
    "# Parking Code"
   ]
  },
  {
   "cell_type": "code",
   "execution_count": null,
   "metadata": {},
   "outputs": [],
   "source": [
    "#Read metadata\n",
    "with open('publish/1.11/metadata.json', 'r') as f:\n",
    "  d = json.load(f)\n",
    "json.dumps(d)\n",
    "#Put metadata\n",
    "r = requests.put(\n",
    "  f'{ZENODO_URL}/api/deposit/depositions/{newversion_deposition_id}',\n",
    "  params = params,\n",
    "  headers = headers,\n",
    "  data = json.dumps(d))\n",
    "r.status_code"
   ]
  },
  {
   "cell_type": "code",
   "execution_count": null,
   "metadata": {},
   "outputs": [],
   "source": [
    "#upload file\n",
    "filename = 'cf-conventions.pdf'\n",
    "with open(f'publish/1.11/{filename}', 'rb') as f:\n",
    "  r = requests.put(\n",
    "    f'{newversion_bucket_url}/{filename}',\n",
    "    params = params,\n",
    "    data = f)\n",
    "  #TODO: Verify MD5\n",
    "  if r.status_code != 201:\n",
    "    raise Exception(r.json())"
   ]
  },
  {
   "cell_type": "markdown",
   "metadata": {},
   "source": [
    "# New Version 1.12-rc7"
   ]
  },
  {
   "cell_type": "code",
   "execution_count": null,
   "metadata": {},
   "outputs": [],
   "source": [
    "LATEST_DEPOSITION_ID = '129052'\n",
    "# Create new record\n",
    "r = requests.post(f'{ZENODO_URL}/api/deposit/depositions/{LATEST_DEPOSITION_ID}/actions/newversion',\n",
    "                   params=params,\n",
    "                   json={},\n",
    "                   headers=headers)\n",
    "# 201\n",
    "if r.status_code == 201:\n",
    "  newversion_record = r.json()\n",
    "  newversion_deposition_id = newversion_record['id']\n",
    "  newversion_bucket_url = newversion_record['links']['bucket']\n",
    "  newversion_prereserve_doi = newversion_record['metadata']['prereserve_doi']['doi']\n",
    "else:\n",
    "  raise requests.RequestException(r.json())\n",
    "\n"
   ]
  },
  {
   "cell_type": "code",
   "execution_count": null,
   "metadata": {},
   "outputs": [],
   "source": [
    "#delete files\n",
    "for file in newversion_record['files']:\n",
    "  r = requests.delete(\n",
    "    f'{ZENODO_URL}/api/deposit/depositions/{newversion_deposition_id}/files/{file['id']}',\n",
    "    params = params,\n",
    "  )\n",
    "  if r.status_code != 204:\n",
    "    r.json()"
   ]
  },
  {
   "cell_type": "code",
   "execution_count": null,
   "metadata": {},
   "outputs": [],
   "source": [
    "#Read metadata\n",
    "with open('publish/1.12-rc7/metadata.json', 'r') as f:\n",
    "  d = json.load(f)\n",
    "json.dumps(d)\n"
   ]
  },
  {
   "cell_type": "code",
   "execution_count": null,
   "metadata": {},
   "outputs": [],
   "source": [
    "#Put metadata\n",
    "r = requests.put(\n",
    "  f'{ZENODO_URL}/api/deposit/depositions/{newversion_deposition_id}',\n",
    "  params = params,\n",
    "  headers = headers,\n",
    "  data = json.dumps(d))\n",
    "if r.status_code != 200:\n",
    "    r.json()"
   ]
  },
  {
   "cell_type": "code",
   "execution_count": null,
   "metadata": {},
   "outputs": [],
   "source": [
    "#upload file\n",
    "filename = 'cf-conventions.pdf'\n",
    "with open(f'publish/1.12-rc7/{filename}', 'rb') as f:\n",
    "  r = requests.put(\n",
    "    f'{newversion_bucket_url}/{filename}',\n",
    "    params = params,\n",
    "    data = f)\n",
    "  #TODO: Verify MD5\n",
    "  if r.status_code != 201:\n",
    "    raise Exception(r.json())"
   ]
  },
  {
   "cell_type": "code",
   "execution_count": null,
   "metadata": {},
   "outputs": [],
   "source": [
    "newversion_record"
   ]
  }
 ],
 "metadata": {
  "kernelspec": {
   "display_name": "cf-conventions.org-ruby-3.0",
   "language": "python",
   "name": "python3"
  },
  "language_info": {
   "codemirror_mode": {
    "name": "ipython",
    "version": 3
   },
   "file_extension": ".py",
   "mimetype": "text/x-python",
   "name": "python",
   "nbconvert_exporter": "python",
   "pygments_lexer": "ipython3",
   "version": "3.12.3"
  }
 },
 "nbformat": 4,
 "nbformat_minor": 2
}
