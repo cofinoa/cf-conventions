{
 "cells": [
  {
   "cell_type": "code",
   "execution_count": 92,
   "metadata": {},
   "outputs": [],
   "source": [
    "import requests\n",
    "import os\n",
    "import json\n",
    "from pprint import pprint\n",
    "import warnings"
   ]
  },
  {
   "cell_type": "code",
   "execution_count": 93,
   "metadata": {},
   "outputs": [],
   "source": [
    "ZENODO_ACCESS_TOKEN = os.environ.get('ZENODO_ACCESS_TOKEN', '4WUTJLhMlKljZkknoc7llyMcTy3vjBy3I11j0mwUHVSYixxjt9Q72kLo8KMp')\n",
    "ZENODO_URL = os.environ.get('ZENODO_URL', 'https://sandbox.zenodo.org')\n",
    "params = {'access_token': ZENODO_ACCESS_TOKEN}\n",
    "headers = {\"Content-Type\": \"application/json\"}"
   ]
  },
  {
   "cell_type": "markdown",
   "metadata": {},
   "source": [
    "# Create a new Record Collection"
   ]
  },
  {
   "cell_type": "code",
   "execution_count": null,
   "metadata": {},
   "outputs": [],
   "source": [
    "# Create empty record\n",
    "res = requests.post(\n",
    "  f'{ZENODO_URL}/api/deposit/depositions',\n",
    "  params=params,\n",
    "  json={},\n",
    "  headers=headers\n",
    ")\n",
    "\n",
    "assert (res.status_code == 201), f'Error creating record: {res.json()}'\n",
    "\n",
    "newrecord = res.json()\n",
    "newrecord_deposition_id = newrecord['id']\n",
    "newrecord_bucket_url = newrecord[\"links\"][\"bucket\"]\n",
    "newversion_prereserve_doi = newrecord['metadata']['prereserve_doi']['doi']\n",
    "pprint(newrecord)"
   ]
  },
  {
   "cell_type": "code",
   "execution_count": null,
   "metadata": {},
   "outputs": [],
   "source": [
    "publish_path='publish/1.0'\n",
    "#Read metadata from zenodo.json file\n",
    "with open(f'{publish_path}/zenodo.json', 'r') as f:\n",
    "  zenodo_json = json.load(f)\n",
    "zenodo_json"
   ]
  },
  {
   "cell_type": "code",
   "execution_count": 8,
   "metadata": {},
   "outputs": [],
   "source": [
    "#Put metadata\n",
    "res = requests.put(\n",
    "  f'{ZENODO_URL}/api/deposit/depositions/{newrecord_deposition_id}',\n",
    "  params = params,\n",
    "  headers = headers,\n",
    "  data = json.dumps(zenodo_json))\n",
    "\n",
    "assert (res.status_code == 200), f'Error updating metadata {newrecord_deposition_id}: {res.json()}'\n"
   ]
  },
  {
   "cell_type": "code",
   "execution_count": 9,
   "metadata": {},
   "outputs": [],
   "source": [
    "#upload file\n",
    "for file in zenodo_json['files']:\n",
    "  filename = file['filename']\n",
    "  with open(f'{publish_path}/{filename}', 'rb') as f:\n",
    "    res = requests.put(\n",
    "      f'{newrecord_bucket_url}/{filename}',\n",
    "      params = params,\n",
    "      data = f)\n",
    "  assert (res.status_code == 201), f'Error uploading file {filename}: {res.json()}'\n",
    "  assert (res.json()['size'] == file['size']), f'Error uploading file. Size mismatch: {res.json()['size']} != {file['size']}'\n",
    "  assert (res.json()['checksum'] == file['checksum']), f'Error uploading file. Checksum mismatch: {res.json()['checksum']} != {file['checksum']}'\n",
    "  #TODO: Verify MD5\n"
   ]
  },
  {
   "cell_type": "code",
   "execution_count": null,
   "metadata": {},
   "outputs": [],
   "source": [
    "res"
   ]
  },
  {
   "cell_type": "code",
   "execution_count": null,
   "metadata": {},
   "outputs": [],
   "source": [
    "res = requests.get(\n",
    "  f'{ZENODO_URL}/api/deposit/depositions/{newrecord_deposition_id}',\n",
    "  params = params,\n",
    "  headers = headers\n",
    ")\n",
    "if res.status_code != 200:\n",
    "  raise requests.RequestException(res.json())\n",
    "res.json()"
   ]
  },
  {
   "cell_type": "code",
   "execution_count": null,
   "metadata": {},
   "outputs": [],
   "source": [
    "res = requests.get(\n",
    "  f'{ZENODO_URL}/api/deposit/depositions',\n",
    "  params = params,\n",
    "  headers = headers\n",
    ")\n",
    "if res.status_code != 200:\n",
    "  raise requests.RequestException(res.json())\n",
    "res.json()"
   ]
  },
  {
   "cell_type": "markdown",
   "metadata": {},
   "source": [
    "# \"New\" Version 1.1"
   ]
  },
  {
   "cell_type": "code",
   "execution_count": 84,
   "metadata": {},
   "outputs": [],
   "source": [
    "#LATEST_DEPOSITION_ID = '129052'\n",
    "#LATEST_DEPOSITION_ID = '129592'\n",
    "#LATEST_DEPOSITION_ID = '130529'\n",
    "#LATEST_DEPOSITION_ID = '138826'\n",
    "LATEST_DEPOSITION_ID = '14274887'\n",
    "\n",
    "\n",
    "# Create new version FROM record\n",
    "#  f'{ZENODO_URL}/api/deposit/depositions/{LATEST_DEPOSITION_ID}/actions/newversion',\n",
    "#  f'{ZENODO_URL}/api/records/{LATEST_DEPOSITION_ID}/versions',\n",
    "res = requests.post(\n",
    "  f'{ZENODO_URL}/api/deposit/depositions/{LATEST_DEPOSITION_ID}/actions/newversion',\n",
    "  params = params,\n",
    "  json = {},\n",
    "  headers = headers\n",
    ")\n",
    "if res.status_code != 201:\n",
    "  if res.status_code == 500 and res.json()['message'] == 'Misconfigured search.':\n",
    "    warnings.warn(f'Error creating new version for deposition id {LATEST_DEPOSITION_ID}: {res.json()}')\n",
    "  else:\n",
    "    assert (res.status_code == 201), f'Error creating new version for deposition id {LATEST_DEPOSITION_ID}: {res.json()}'"
   ]
  },
  {
   "cell_type": "code",
   "execution_count": 85,
   "metadata": {},
   "outputs": [],
   "source": [
    "# TO BE KEEP in case temporla issues appear again\n",
    "#TEMP_ID = 129747\n",
    "#res = requests.get(\n",
    "#  f'{ZENODO_URL}/api/deposit/depositions/{TEMP_ID}',\n",
    "#  params = params,\n",
    "#  headers = headers\n",
    "#)\n",
    "#assert (res.status_code == 200), f'Error retriving new verions deposition {TEMP_ID}: {res.json()}'\n",
    "\n",
    "newversion_record = res.json()\n",
    "newversion_deposition_id = newversion_record['id']\n",
    "newversion_bucket_url = newversion_record['links']['bucket']\n",
    "newversion_prereserve_doi = newversion_record['metadata']['prereserve_doi']['doi']\n",
    "#newversion_record"
   ]
  },
  {
   "cell_type": "code",
   "execution_count": 87,
   "metadata": {},
   "outputs": [
    {
     "data": {
      "text/plain": [
       "'10.5281/zenodo.14275599'"
      ]
     },
     "execution_count": 87,
     "metadata": {},
     "output_type": "execute_result"
    }
   ],
   "source": [
    "newversion_prereserve_doi"
   ]
  },
  {
   "cell_type": "code",
   "execution_count": 88,
   "metadata": {},
   "outputs": [
    {
     "ename": "AssertionError",
     "evalue": "Error deleting file cf-conventions.pdf: {'status': 404, 'message': \"Record '14275599' has no file 'cf-conventions.pdf'.\"}",
     "output_type": "error",
     "traceback": [
      "\u001b[0;31m---------------------------------------------------------------------------\u001b[0m",
      "\u001b[0;31mAssertionError\u001b[0m                            Traceback (most recent call last)",
      "Cell \u001b[0;32mIn[88], line 7\u001b[0m\n\u001b[1;32m      2\u001b[0m \u001b[38;5;28;01mfor\u001b[39;00m file \u001b[38;5;129;01min\u001b[39;00m newversion_record[\u001b[38;5;124m'\u001b[39m\u001b[38;5;124mfiles\u001b[39m\u001b[38;5;124m'\u001b[39m]:\n\u001b[1;32m      3\u001b[0m   res \u001b[38;5;241m=\u001b[39m requests\u001b[38;5;241m.\u001b[39mdelete(\n\u001b[1;32m      4\u001b[0m     \u001b[38;5;124mf\u001b[39m\u001b[38;5;124m'\u001b[39m\u001b[38;5;132;01m{\u001b[39;00mZENODO_URL\u001b[38;5;132;01m}\u001b[39;00m\u001b[38;5;124m/api/deposit/depositions/\u001b[39m\u001b[38;5;132;01m{\u001b[39;00mnewversion_deposition_id\u001b[38;5;132;01m}\u001b[39;00m\u001b[38;5;124m/files/\u001b[39m\u001b[38;5;132;01m{\u001b[39;00mfile[\u001b[38;5;124m'\u001b[39m\u001b[38;5;124mid\u001b[39m\u001b[38;5;124m'\u001b[39m]\u001b[38;5;132;01m}\u001b[39;00m\u001b[38;5;124m'\u001b[39m,\n\u001b[1;32m      5\u001b[0m     params \u001b[38;5;241m=\u001b[39m params,\n\u001b[1;32m      6\u001b[0m   )\n\u001b[0;32m----> 7\u001b[0m   \u001b[38;5;28;01massert\u001b[39;00m (res\u001b[38;5;241m.\u001b[39mstatus_code \u001b[38;5;241m==\u001b[39m \u001b[38;5;241m204\u001b[39m), \u001b[38;5;124mf\u001b[39m\u001b[38;5;124m'\u001b[39m\u001b[38;5;124mError deleting file \u001b[39m\u001b[38;5;132;01m{\u001b[39;00mfile[\u001b[38;5;124m'\u001b[39m\u001b[38;5;124mfilename\u001b[39m\u001b[38;5;124m'\u001b[39m]\u001b[38;5;132;01m}\u001b[39;00m\u001b[38;5;124m: \u001b[39m\u001b[38;5;132;01m{\u001b[39;00mres\u001b[38;5;241m.\u001b[39mjson()\u001b[38;5;132;01m}\u001b[39;00m\u001b[38;5;124m'\u001b[39m\n",
      "\u001b[0;31mAssertionError\u001b[0m: Error deleting file cf-conventions.pdf: {'status': 404, 'message': \"Record '14275599' has no file 'cf-conventions.pdf'.\"}"
     ]
    }
   ],
   "source": [
    "#delete files\n",
    "for file in newversion_record['files']:\n",
    "  res = requests.delete(\n",
    "    f'{ZENODO_URL}/api/deposit/depositions/{newversion_deposition_id}/files/{file['id']}',\n",
    "    params = params,\n",
    "  )\n",
    "  assert (res.status_code == 204), f'Error deleting file {file['filename']}: {res.json()}'\n"
   ]
  },
  {
   "cell_type": "code",
   "execution_count": 89,
   "metadata": {},
   "outputs": [],
   "source": [
    "publish_path='publish/1.12'\n",
    "#Read metadata from zenodo.json file\n",
    "with open(f'{publish_path}/zenodo.json', 'r') as f:\n",
    "  zenodo_json = json.load(f)\n",
    "#zenodo_json"
   ]
  },
  {
   "cell_type": "code",
   "execution_count": 90,
   "metadata": {},
   "outputs": [],
   "source": [
    "#Put metadata\n",
    "res = requests.put(\n",
    "  f'{ZENODO_URL}/api/deposit/depositions/{newversion_deposition_id}',\n",
    "  params = params,\n",
    "  headers = headers,\n",
    "  data = json.dumps(zenodo_json))\n",
    "\n",
    "assert (res.status_code == 200), f'Error updating metadata {newversion_deposition_id}: {res.json()}'\n"
   ]
  },
  {
   "cell_type": "code",
   "execution_count": null,
   "metadata": {},
   "outputs": [],
   "source": [
    "res.json()"
   ]
  },
  {
   "cell_type": "code",
   "execution_count": 83,
   "metadata": {},
   "outputs": [],
   "source": [
    "#upload file\n",
    "for file in zenodo_json['files']:\n",
    "  filename = file['filename']\n",
    "  with open(f'{publish_path}/{filename}', 'rb') as f:\n",
    "    res = requests.put(\n",
    "      f'{newversion_bucket_url}/{filename}',\n",
    "      params = params,\n",
    "      data = f)\n",
    "  assert (res.status_code == 201), f'Error uploading file {filename}: {res.json()}'\n",
    "  assert (res.json()['size'] == file['size']), f'Error uploading file. Size mismatch: {res.json()['size']} != {file['size']}'\n",
    "  assert (res.json()['checksum'] == file['checksum']), f'Error uploading file. Checksum mismatch: {res.json()['checksum']} != {file['checksum']}'\n"
   ]
  },
  {
   "cell_type": "markdown",
   "metadata": {},
   "source": [
    "## BE CAREFUL THIS WILL PUBLISH THE NEW VERSION"
   ]
  },
  {
   "cell_type": "code",
   "execution_count": null,
   "metadata": {},
   "outputs": [],
   "source": [
    "res = requests.post(\n",
    "  f'{ZENODO_URL}/api/deposit/depositions/{newversion_deposition_id}/actions/publish',\n",
    "  params = params,\n",
    "  json = {},\n",
    "  headers = headers\n",
    ")\n",
    "assert (res.status_code == 202), f'Error publishing deposition id: {newversion_deposition_id}'\n",
    "res.json()"
   ]
  },
  {
   "cell_type": "markdown",
   "metadata": {},
   "source": [
    "# Update Version 1.12"
   ]
  },
  {
   "cell_type": "code",
   "execution_count": 104,
   "metadata": {},
   "outputs": [],
   "source": [
    "#10.5281/zenodo.14275599\n",
    "DEPOSITION_ID = '14275599'\n",
    "\n",
    "res = requests.get(\n",
    "  f'{ZENODO_URL}/api/deposit/depositions/{DEPOSITION_ID}',\n",
    "  params = params,\n",
    "  json = {},\n",
    "  headers = headers\n",
    ")\n",
    "assert (res.status_code == 200), f'Error retrieving deposition id {DEPOSITION_ID}: {res.json()}'\n",
    "\n",
    "record = res.json()\n",
    "deposition_id = record['id']\n",
    "bucket_url = record['links']['bucket']\n",
    "prereserve_doi = record['metadata']['prereserve_doi']['doi']\n"
   ]
  },
  {
   "cell_type": "code",
   "execution_count": 105,
   "metadata": {},
   "outputs": [],
   "source": [
    "publish_path='publish/1.12'\n",
    "#Read metadata from zenodo.json file\n",
    "with open(f'{publish_path}/zenodo.json', 'r') as f:\n",
    "  zenodo_json = json.load(f)\n",
    "\n",
    "#Put metadata\n",
    "res = requests.put(\n",
    "  f'{ZENODO_URL}/api/deposit/depositions/{deposition_id}',\n",
    "  params = params,\n",
    "  headers = headers,\n",
    "  data = json.dumps(zenodo_json))\n",
    "\n",
    "assert (res.status_code == 200), f'Error updating metadata {deposition_id}: {res.json()}'\n"
   ]
  },
  {
   "cell_type": "code",
   "execution_count": 106,
   "metadata": {},
   "outputs": [],
   "source": [
    "#delete files\n",
    "for file in record['files']:\n",
    "  res = requests.delete(\n",
    "    f'{ZENODO_URL}/api/deposit/depositions/{deposition_id}/files/{file['id']}',\n",
    "    params = params,\n",
    "  )\n",
    "  assert (res.status_code == 204), f'Error deleting file {file['filename']}: {res.json()}'"
   ]
  },
  {
   "cell_type": "code",
   "execution_count": 107,
   "metadata": {},
   "outputs": [],
   "source": [
    "#upload file\n",
    "for file in zenodo_json['files']:\n",
    "  filename = file['filename']\n",
    "  with open(f'{publish_path}/{filename}', 'rb') as f:\n",
    "    res = requests.put(\n",
    "      f'{bucket_url}/{filename}',\n",
    "      params = params,\n",
    "      data = f)\n",
    "  assert (res.status_code == 201), f'Error uploading file {filename}: {res.json()}'\n",
    "  assert (res.json()['size'] == file['size']), f'Error uploading file. Size mismatch: {res.json()['size']} != {file['size']}'\n",
    "  assert (res.json()['checksum'] == file['checksum']), f'Error uploading file. Checksum mismatch: {res.json()['checksum']} != {file['checksum']}'"
   ]
  },
  {
   "cell_type": "markdown",
   "metadata": {},
   "source": [
    "# Parking Code"
   ]
  },
  {
   "cell_type": "code",
   "execution_count": null,
   "metadata": {},
   "outputs": [],
   "source": [
    "#Read metadata\n",
    "with open('publish/1.11/metadata.json', 'r') as f:\n",
    "  d = json.load(f)\n",
    "json.dumps(d)\n",
    "#Put metadata\n",
    "r = requests.put(\n",
    "  f'{ZENODO_URL}/api/deposit/depositions/{newversion_deposition_id}',\n",
    "  params = params,\n",
    "  headers = headers,\n",
    "  data = json.dumps(d))\n",
    "r.status_code"
   ]
  },
  {
   "cell_type": "code",
   "execution_count": null,
   "metadata": {},
   "outputs": [],
   "source": [
    "#upload file\n",
    "filename = 'cf-conventions.pdf'\n",
    "with open(f'publish/1.11/{filename}', 'rb') as f:\n",
    "  r = requests.put(\n",
    "    f'{newversion_bucket_url}/{filename}',\n",
    "    params = params,\n",
    "    data = f)\n",
    "  #TODO: Verify MD5\n",
    "  if r.status_code != 201:\n",
    "    raise Exception(r.json())"
   ]
  },
  {
   "cell_type": "markdown",
   "metadata": {},
   "source": [
    "# New Version 1.12-rc7"
   ]
  },
  {
   "cell_type": "code",
   "execution_count": null,
   "metadata": {},
   "outputs": [],
   "source": [
    "LATEST_DEPOSITION_ID = '129052'\n",
    "# Create new record\n",
    "r = requests.post(f'{ZENODO_URL}/api/deposit/depositions/{LATEST_DEPOSITION_ID}/actions/newversion',\n",
    "                   params=params,\n",
    "                   json={},\n",
    "                   headers=headers)\n",
    "# 201\n",
    "if r.status_code == 201:\n",
    "  newversion_record = r.json()\n",
    "  newversion_deposition_id = newversion_record['id']\n",
    "  newversion_bucket_url = newversion_record['links']['bucket']\n",
    "  newversion_prereserve_doi = newversion_record['metadata']['prereserve_doi']['doi']\n",
    "else:\n",
    "  raise requests.RequestException(r.json())\n",
    "\n"
   ]
  },
  {
   "cell_type": "code",
   "execution_count": null,
   "metadata": {},
   "outputs": [],
   "source": [
    "#delete files\n",
    "for file in newversion_record['files']:\n",
    "  r = requests.delete(\n",
    "    f'{ZENODO_URL}/api/deposit/depositions/{newversion_deposition_id}/files/{file['id']}',\n",
    "    params = params,\n",
    "  )\n",
    "  if r.status_code != 204:\n",
    "    r.json()"
   ]
  },
  {
   "cell_type": "code",
   "execution_count": null,
   "metadata": {},
   "outputs": [],
   "source": [
    "#Read metadata\n",
    "with open('publish/1.12-rc7/metadata.json', 'r') as f:\n",
    "  d = json.load(f)\n",
    "json.dumps(d)\n"
   ]
  },
  {
   "cell_type": "code",
   "execution_count": null,
   "metadata": {},
   "outputs": [],
   "source": [
    "#Put metadata\n",
    "r = requests.put(\n",
    "  f'{ZENODO_URL}/api/deposit/depositions/{newversion_deposition_id}',\n",
    "  params = params,\n",
    "  headers = headers,\n",
    "  data = json.dumps(d))\n",
    "if r.status_code != 200:\n",
    "    r.json()"
   ]
  },
  {
   "cell_type": "code",
   "execution_count": null,
   "metadata": {},
   "outputs": [],
   "source": [
    "#upload file\n",
    "filename = 'cf-conventions.pdf'\n",
    "with open(f'publish/1.12-rc7/{filename}', 'rb') as f:\n",
    "  r = requests.put(\n",
    "    f'{newversion_bucket_url}/{filename}',\n",
    "    params = params,\n",
    "    data = f)\n",
    "  #TODO: Verify MD5\n",
    "  if r.status_code != 201:\n",
    "    raise Exception(r.json())"
   ]
  },
  {
   "cell_type": "code",
   "execution_count": null,
   "metadata": {},
   "outputs": [],
   "source": [
    "newversion_record"
   ]
  },
  {
   "cell_type": "markdown",
   "metadata": {},
   "source": [
    "# File checksum"
   ]
  },
  {
   "cell_type": "code",
   "execution_count": null,
   "metadata": {},
   "outputs": [],
   "source": [
    "import os\n",
    "import hashlib\n",
    "\n",
    "def calculate_md5(file_path):\n",
    "    \"\"\"Calculate MD5 checksum for a file.\"\"\"\n",
    "    hash_md5 = hashlib.md5()\n",
    "    with open(file_path, \"rb\") as f:\n",
    "        for chunk in iter(lambda: f.read(4096), b\"\"):\n",
    "            hash_md5.update(chunk)\n",
    "    return hash_md5.hexdigest()\n",
    "\n",
    "def list_files_and_generate_metadata():\n",
    "    \"\"\"List PDF and HTML files in the current directory and generate metadata.\"\"\"\n",
    "    files_metadata = []\n",
    "    for file in os.listdir(\".\"):\n",
    "        if file.endswith(\".pdf\") or file.endswith(\".html\"):\n",
    "            size = os.path.getsize(file)\n",
    "            checksum = calculate_md5(file)\n",
    "            files_metadata.append((file, size, checksum))\n",
    "\n",
    "    # Find maximum lengths for formatting\n",
    "    max_filename_len = max(len(file[0]) for file in files_metadata) + 2\n",
    "    max_size_len = max(len(str(file[1])) for file in files_metadata) + 2\n",
    "    max_checksum_len = len(\"checksum\") + 2\n",
    "\n",
    "    # Generate formatted output\n",
    "    print(\"Files Section:\")\n",
    "    print(\" \" * 4 + \"{\" + \",\\n    \".join(\n",
    "        f'{{\"filename\": {file[0]:<{max_filename_len}} \"size\": {file[1]:<{max_size_len}} \"checksum\": \"md5:{file[2]:<{max_checksum_len}}\"}}'\n",
    "        for file in files_metadata\n",
    "    ) + \"}\")\n",
    "    print()\n",
    "\n",
    "if __name__ == \"__main__\":\n",
    "    list_files_and_generate_metadata()"
   ]
  }
 ],
 "metadata": {
  "kernelspec": {
   "display_name": "cf-conventions.org-ruby-3.0",
   "language": "python",
   "name": "python3"
  },
  "language_info": {
   "codemirror_mode": {
    "name": "ipython",
    "version": 3
   },
   "file_extension": ".py",
   "mimetype": "text/x-python",
   "name": "python",
   "nbconvert_exporter": "python",
   "pygments_lexer": "ipython3",
   "version": "3.12.3"
  }
 },
 "nbformat": 4,
 "nbformat_minor": 2
}
